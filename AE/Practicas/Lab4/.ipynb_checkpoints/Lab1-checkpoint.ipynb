{
 "cells": [
  {
   "cell_type": "markdown",
   "metadata": {},
   "source": [
    "# LAB 1: métodos basados en vecinos más próximos"
   ]
  },
  {
   "cell_type": "code",
   "execution_count": 2,
   "metadata": {},
   "outputs": [
    {
     "name": "stderr",
     "output_type": "stream",
     "text": [
      "/usr/local/lib/python2.7/dist-packages/sklearn/cross_validation.py:41: DeprecationWarning: This module was deprecated in version 0.18 in favor of the model_selection module into which all the refactored classes and functions are moved. Also note that the interface of the new CV iterators are different from that of this module. This module will be removed in 0.20.\n",
      "  \"This module will be removed in 0.20.\", DeprecationWarning)\n",
      "/usr/local/lib/python2.7/dist-packages/sklearn/grid_search.py:42: DeprecationWarning: This module was deprecated in version 0.18 in favor of the model_selection module into which all the refactored classes and functions are moved. This module will be removed in 0.20.\n",
      "  DeprecationWarning)\n"
     ]
    }
   ],
   "source": [
    "from sklearn import preprocessing, cross_validation, neighbors\n",
    "from sklearn.grid_search import GridSearchCV\n",
    "from sklearn.preprocessing import Imputer\n",
    "from sklearn.externals import joblib\n",
    "import sklearn.metrics as metrics\n",
    "import numpy as np\n",
    "%matplotlib inline\n",
    "import matplotlib.pyplot as plt\n",
    "from matplotlib.colors import ListedColormap"
   ]
  },
  {
   "cell_type": "markdown",
   "metadata": {},
   "source": [
    "# 2. Dado el problema de clasificación Blood Transfusion Service Center:"
   ]
  },
  {
   "cell_type": "markdown",
   "metadata": {},
   "source": [
    "## a. Analiza las características del conjunto de datos: número y tipo de variables de entrada y salida, número de instancias, número de clases y distribución de las mismas, valores perdidos, etc."
   ]
  },
  {
   "cell_type": "markdown",
   "metadata": {},
   "source": [
    "Abriendo con un editor de texto el conjunto de datos podemos observar las siguientes características:\n",
    "* Número de variables de entrada: 4\n",
    "* Tipo de variables de entrada: Números enteros.\n",
    "* Número de variables de salida: 1\n",
    "* Tipo de variables de salida: Número entero que representa si se ha donado en Marzo de 2007 o no."
   ]
  },
  {
   "cell_type": "markdown",
   "metadata": {},
   "source": [
    "El resto de características se pueden ver fácilmente tras cargar el dataset en python:"
   ]
  },
  {
   "cell_type": "code",
   "execution_count": 3,
   "metadata": {
    "collapsed": true
   },
   "outputs": [],
   "source": [
    "# Cargamos el dataset\n",
    "bloodTransfusionDataset = np.loadtxt('bloodTransfusion.data', delimiter=',')\n",
    "# Separamos las variables predictoras de los resultados\n",
    "xRaw = bloodTransfusionDataset[:,0:bloodTransfusionDataset.shape[1]-1]\n",
    "y = bloodTransfusionDataset[:,bloodTransfusionDataset.shape[1]-1]"
   ]
  },
  {
   "cell_type": "markdown",
   "metadata": {},
   "source": [
    "* Número de instancias:"
   ]
  },
  {
   "cell_type": "code",
   "execution_count": 4,
   "metadata": {},
   "outputs": [
    {
     "data": {
      "text/plain": [
       "748"
      ]
     },
     "execution_count": 4,
     "metadata": {},
     "output_type": "execute_result"
    }
   ],
   "source": [
    "n = len(bloodTransfusionDataset)\n",
    "n"
   ]
  },
  {
   "cell_type": "markdown",
   "metadata": {},
   "source": [
    "* Número de clases y su distribución:"
   ]
  },
  {
   "cell_type": "code",
   "execution_count": 5,
   "metadata": {},
   "outputs": [
    {
     "name": "stdout",
     "output_type": "stream",
     "text": [
      "Class:  0.0  -  76 %\n",
      "Class:  1.0  -  23 %\n"
     ]
    }
   ],
   "source": [
    "results = {}\n",
    "for value in y:\n",
    "    if(value in results):\n",
    "        results[value] = results[value] + 1\n",
    "    else:\n",
    "        results[value] = 1\n",
    "\n",
    "results.keys()\n",
    "for key, value in results.iteritems():\n",
    "    print 'Class: ', key, ' - ', value*100/n, '%'"
   ]
  },
  {
   "cell_type": "markdown",
   "metadata": {},
   "source": [
    "* Valores perdidos:"
   ]
  },
  {
   "cell_type": "code",
   "execution_count": 6,
   "metadata": {},
   "outputs": [
    {
     "data": {
      "text/plain": [
       "array([], shape=(0, 2), dtype=int64)"
      ]
     },
     "execution_count": 6,
     "metadata": {},
     "output_type": "execute_result"
    }
   ],
   "source": [
    "np.argwhere(np.isnan(xRaw))"
   ]
  },
  {
   "cell_type": "markdown",
   "metadata": {},
   "source": [
    "En este caso no existen valores perdidos. Si los hubiese, sería necesario ejecutar lo siguiente:"
   ]
  },
  {
   "cell_type": "code",
   "execution_count": 7,
   "metadata": {
    "collapsed": true
   },
   "outputs": [],
   "source": [
    "# Valores perdidos\n",
    "imp = Imputer(missing_values='NaN', strategy='mean', axis=0)\n",
    "xPrep = imp.fit_transform(xRaw)"
   ]
  },
  {
   "cell_type": "markdown",
   "metadata": {},
   "source": [
    "## b. Una de las clases que implementa el algoritmo KNN en scikit-learn es sklearn.neighbors.KNeighborsClassifier. Revisa los parámetros y métodos que tiene."
   ]
  },
  {
   "cell_type": "markdown",
   "metadata": {
    "collapsed": true
   },
   "source": [
    "class sklearn.neighbors.KNeighborsClassifier(n_neighbors=5, weights=’uniform’, algorithm=’auto’, leaf_size=30, p=2, metric=’minkowski’, metric_params=None, n_jobs=1, **kwargs)"
   ]
  },
  {
   "cell_type": "markdown",
   "metadata": {},
   "source": [
    "## c. Divide los datos en entrenamiento (80%) y test (20%)."
   ]
  },
  {
   "cell_type": "code",
   "execution_count": 8,
   "metadata": {},
   "outputs": [
    {
     "name": "stdout",
     "output_type": "stream",
     "text": [
      "xTrain [[-0.68067941  0.59726713  0.59726713  0.15262115]\n",
      " [-0.80428907 -0.08820401 -0.08820401 -0.91468418]\n",
      " [-0.92789873 -0.77367514 -0.77367514 -1.32518623]\n",
      " ..., \n",
      " [-0.30985042  0.9400027   0.9400027   2.2461816 ]\n",
      " [-0.80428907  0.42589934  0.42589934  0.64522361]\n",
      " [ 0.80263654 -0.25957179 -0.25957179 -0.05262988]] \n",
      "xTest [[-0.68067941 -0.43093957 -0.43093957 -0.2578809 ]\n",
      " [-0.92789873  0.9400027   0.9400027   0.27577176]\n",
      " [-0.92789873  0.08316378  0.08316378 -0.79153356]\n",
      " [-0.68067941  0.76863491  0.76863491 -0.2578809 ]\n",
      " [-0.92789873  6.08103621  6.08103621  2.61563344]\n",
      " [-0.92789873 -0.60230736 -0.60230736 -1.24308582]\n",
      " [ 0.55541721 -0.77367514 -0.77367514 -0.83258377]\n",
      " [-0.92789873 -0.60230736 -0.60230736 -1.24308582]\n",
      " [ 1.66790417 -0.43093957 -0.43093957  0.23472156]\n",
      " [-0.68067941  1.11137048  1.11137048 -0.01157967]\n",
      " [ 0.18458823  0.08316378  0.08316378  0.27577176]\n",
      " [ 0.55541721 -0.25957179 -0.25957179  0.15262115]\n",
      " [-0.92789873 -0.77367514 -0.77367514 -1.32518623]\n",
      " [-0.68067941  1.28273826  1.28273826  0.19367135]\n",
      " [-0.92789873  1.28273826  1.28273826  0.76837422]\n",
      " [ 1.66790417  0.42589934  0.42589934  1.4251775 ]\n",
      " [-0.18624076 -0.60230736 -0.60230736 -0.75048336]\n",
      " [ 1.42068485 -0.77367514 -0.77367514 -0.54523233]\n",
      " [ 0.55541721  0.25453156  0.25453156  1.54832812]\n",
      " [-0.68067941  0.42589934  0.42589934  0.23472156]\n",
      " [ 0.18458823  0.25453156  0.25453156  1.21992648]\n",
      " [ 0.18458823 -0.60230736 -0.60230736 -0.95573438]\n",
      " [ 0.18458823 -0.77367514 -0.77367514 -0.95573438]\n",
      " [-0.68067941 -0.77367514 -0.77367514 -1.24308582]\n",
      " [-0.43346009 -0.43093957 -0.43093957 -0.33998131]\n",
      " [ 0.55541721  0.42589934  0.42589934 -0.33998131]\n",
      " [-0.92789873 -0.77367514 -0.77367514 -1.32518623]\n",
      " [-0.68067941  2.31094497  2.31094497  1.4251775 ]\n",
      " [ 1.04985586 -0.60230736 -0.60230736 -0.46313192]\n",
      " [ 0.18458823  0.25453156  0.25453156  1.13782607]\n",
      " [-0.92789873  0.59726713  0.59726713 -0.50418213]\n",
      " [-0.68067941 -0.60230736 -0.60230736 -0.13473028]\n",
      " [ 3.52204911 -0.77367514 -0.77367514  0.15262115]\n",
      " [-0.68067941  0.08316378  0.08316378  0.02947053]\n",
      " [-0.92789873 -0.43093957 -0.43093957  1.75357914]\n",
      " [-0.68067941 -0.77367514 -0.77367514 -1.24308582]\n",
      " [ 0.80263654 -0.77367514 -0.77367514 -0.75048336]\n",
      " [-0.68067941  1.45410605  1.45410605  2.12303099]\n",
      " [-0.30985042 -0.60230736 -0.60230736 -0.75048336]\n",
      " [ 0.80263654 -0.77367514 -0.77367514 -0.75048336]\n",
      " [ 0.18458823 -0.60230736 -0.60230736 -0.95573438]\n",
      " [ 0.06097856 -0.08820401 -0.08820401  0.15262115]\n",
      " [-0.68067941 -0.77367514 -0.77367514 -1.24308582]\n",
      " [-1.17511806  1.28273826  1.28273826 -0.2578809 ]\n",
      " [ 0.18458823 -0.25957179 -0.25957179  0.97362525]\n",
      " [ 0.55541721 -0.08820401 -0.08820401  1.63042853]\n",
      " [-0.68067941  0.08316378  0.08316378  0.48102279]\n",
      " [ 0.55541721 -0.60230736 -0.60230736 -0.83258377]\n",
      " [-0.80428907  1.45410605  1.45410605  0.02947053]\n",
      " [ 0.18458823  0.42589934  0.42589934  0.27577176]\n",
      " [ 1.42068485 -0.43093957 -0.43093957 -0.33998131]\n",
      " [-0.0626311   0.42589934  0.42589934  0.15262115]\n",
      " [ 0.18458823 -0.60230736 -0.60230736 -0.83258377]\n",
      " [ 0.18458823 -0.77367514 -0.77367514 -0.95573438]\n",
      " [ 0.80263654 -0.08820401 -0.08820401  0.23472156]\n",
      " [-0.92789873  0.42589934  0.42589934  0.15262115]\n",
      " [-0.68067941 -0.60230736 -0.60230736  0.48102279]\n",
      " [ 0.18458823 -0.08820401 -0.08820401 -0.66838295]\n",
      " [ 0.18458823 -0.08820401 -0.08820401  0.64522361]\n",
      " [ 0.55541721 -0.60230736 -0.60230736 -0.83258377]\n",
      " [-0.68067941 -0.08820401 -0.08820401  0.97362525]\n",
      " [-0.92789873 -0.77367514 -0.77367514 -1.32518623]\n",
      " [-0.92789873  0.08316378  0.08316378 -0.2578809 ]\n",
      " [-0.92789873  1.11137048  1.11137048  1.46622771]\n",
      " [-0.68067941 -0.77367514 -0.77367514 -1.24308582]\n",
      " [-0.68067941 -0.77367514 -0.77367514 -1.24308582]\n",
      " [ 0.55541721 -0.60230736 -0.60230736 -0.83258377]\n",
      " [ 0.55541721 -0.60230736 -0.60230736 -0.83258377]\n",
      " [ 1.66790417 -0.60230736 -0.60230736  2.16408119]\n",
      " [-1.17511806  3.51051945  3.51051945  1.71252894]\n",
      " [ 1.66790417  1.62547383  1.62547383  0.93257504]\n",
      " [ 0.18458823  0.59726713  0.59726713  1.54832812]\n",
      " [-0.92789873 -0.77367514 -0.77367514 -1.32518623]\n",
      " [-0.92789873  0.08316378  0.08316378  0.43997258]\n",
      " [-0.68067941 -0.60230736 -0.60230736  0.27577176]\n",
      " [-0.68067941 -0.77367514 -0.77367514 -1.24308582]\n",
      " [ 0.55541721 -0.08820401 -0.08820401 -0.83258377]\n",
      " [ 0.80263654 -0.60230736 -0.60230736 -0.75048336]\n",
      " [-0.92789873  1.62547383  1.62547383  1.21992648]\n",
      " [-0.92789873  0.08316378  0.08316378 -0.33998131]\n",
      " [-0.92789873  0.08316378  0.08316378 -0.79153356]\n",
      " [ 0.18458823  1.9682094   1.9682094   1.83567955]\n",
      " [-0.92789873 -0.08820401 -0.08820401 -0.33998131]\n",
      " [-0.92789873 -0.43093957 -0.43093957  0.72732402]\n",
      " [-0.92789873 -0.08820401 -0.08820401 -0.75048336]\n",
      " [-0.92789873  0.9400027   0.9400027   0.48102279]\n",
      " [-0.68067941 -0.77367514 -0.77367514 -1.24308582]\n",
      " [-0.92789873  0.08316378  0.08316378 -0.2578809 ]\n",
      " [ 1.66790417 -0.43093957 -0.43093957 -0.2578809 ]\n",
      " [ 7.97199695 -0.77367514 -0.77367514  1.63042853]\n",
      " [ 0.80263654 -0.25957179 -0.25957179 -0.2578809 ]\n",
      " [ 3.15122012 -0.43093957 -0.43093957  1.21992648]\n",
      " [-0.68067941  2.9964161   2.9964161   0.97362525]\n",
      " [-0.68067941  0.25453156  0.25453156 -0.38103151]\n",
      " [-0.92789873  6.42377178  6.42377178  2.12303099]\n",
      " [-0.92789873  0.9400027   0.9400027   0.23472156]\n",
      " [-0.92789873  0.9400027   0.9400027  -0.33998131]\n",
      " [ 1.66790417  0.25453156  0.25453156  2.2051314 ]\n",
      " [-0.30985042  1.45410605  1.45410605  0.5631232 ]\n",
      " [-0.92789873 -0.77367514 -0.77367514 -1.32518623]\n",
      " [-0.68067941 -0.08820401 -0.08820401 -0.75048336]\n",
      " [ 0.55541721  2.13957718  2.13957718  1.79462935]\n",
      " [-0.80428907 -0.60230736 -0.60230736 -0.46313192]\n",
      " [-0.43346009 -0.60230736 -0.60230736 -0.95573438]\n",
      " [ 0.55541721 -0.77367514 -0.77367514 -0.83258377]\n",
      " [ 0.18458823 -0.25957179 -0.25957179  1.01467545]\n",
      " [ 1.66790417 -0.77367514 -0.77367514 -0.46313192]\n",
      " [-0.92789873 -0.60230736 -0.60230736 -0.95573438]\n",
      " [-0.68067941  0.25453156  0.25453156 -0.09368008]\n",
      " [ 1.9151235   0.08316378  0.08316378  0.64522361]\n",
      " [-0.92789873 -0.77367514 -0.77367514 -1.32518623]\n",
      " [ 1.42068485 -0.77367514 -0.77367514 -0.54523233]\n",
      " [ 0.55541721  0.08316378  0.08316378  0.68627381]\n",
      " [ 0.55541721 -0.77367514 -0.77367514 -0.83258377]\n",
      " [ 0.18458823  0.9400027   0.9400027   0.15262115]\n",
      " [ 1.42068485 -0.08820401 -0.08820401  1.05572566]\n",
      " [-0.92789873 -0.25957179 -0.25957179 -0.75048336]\n",
      " [-0.92789873 -0.60230736 -0.60230736 -1.32518623]\n",
      " [ 1.42068485 -0.77367514 -0.77367514 -0.54523233]\n",
      " [ 1.66790417 -0.43093957 -0.43093957  2.2461816 ]\n",
      " [-0.92789873  0.08316378  0.08316378  0.27577176]\n",
      " [-0.68067941  0.59726713  0.59726713  0.72732402]\n",
      " [ 0.43180755 -0.43093957 -0.43093957 -0.83258377]\n",
      " [ 1.66790417 -0.25957179 -0.25957179  0.43997258]\n",
      " [-0.68067941  0.08316378  0.08316378 -0.75048336]\n",
      " [ 0.18458823 -0.60230736 -0.60230736 -0.54523233]\n",
      " [-0.92789873 -0.60230736 -0.60230736 -1.32518623]\n",
      " [-0.68067941 -0.77367514 -0.77367514 -1.24308582]\n",
      " [ 0.80263654  1.79684161  1.79684161  1.75357914]\n",
      " [ 0.80263654  0.25453156  0.25453156 -0.2578809 ]\n",
      " [ 0.18458823  0.9400027   0.9400027   0.31682197]\n",
      " [-0.68067941 -0.43093957 -0.43093957 -0.75048336]\n",
      " [-0.92789873 -0.25957179 -0.25957179 -0.75048336]\n",
      " [-0.92789873 -0.43093957 -0.43093957 -1.03783479]\n",
      " [ 0.18458823  0.42589934  0.42589934  0.72732402]\n",
      " [-0.92789873  0.08316378  0.08316378 -0.50418213]\n",
      " [ 1.66790417 -0.43093957 -0.43093957  0.5631232 ]\n",
      " [ 1.42068485 -0.43093957 -0.43093957 -0.33998131]\n",
      " [ 1.66790417 -0.60230736 -0.60230736 -0.2578809 ]\n",
      " [-0.0626311  -0.77367514 -0.77367514 -1.03783479]\n",
      " [-0.30985042  0.76863491  0.76863491  0.52207299]\n",
      " [ 0.55541721 -0.25957179 -0.25957179 -0.33998131]\n",
      " [ 0.06097856 -0.25957179 -0.25957179 -0.75048336]\n",
      " [ 0.18458823  0.59726713  0.59726713  0.15262115]\n",
      " [-1.0515084   0.25453156  0.25453156  0.93257504]\n",
      " [-0.68067941 -0.77367514 -0.77367514 -1.24308582]\n",
      " [-0.68067941 -0.25957179 -0.25957179 -0.33998131]\n",
      " [ 1.42068485 -0.43093957 -0.43093957  0.02947053]\n",
      " [ 0.18458823 -0.08820401 -0.08820401  0.02947053]\n",
      " [ 0.80263654 -0.77367514 -0.77367514 -0.75048336]] \n",
      "yTrain [ 1.  1.  0.  0.  1.  0.  0.  0.  1.  0.  0.  0.  0.  1.  0.  1.  0.  0.\n",
      "  1.  0.  0.  0.  0.  1.  0.  0.  1.  0.  1.  0.  1.  1.  0.  0.  1.  0.\n",
      "  1.  0.  0.  0.  0.  0.  0.  0.  0.  0.  1.  0.  1.  0.  0.  0.  0.  0.\n",
      "  0.  0.  0.  0.  1.  0.  0.  0.  0.  1.  0.  0.  1.  0.  0.  0.  0.  0.\n",
      "  1.  0.  0.  1.  0.  0.  1.  0.  0.  0.  0.  0.  1.  0.  1.  0.  0.  0.\n",
      "  0.  1.  1.  0.  0.  0.  0.  0.  0.  0.  1.  0.  1.  0.  0.  0.  1.  0.\n",
      "  0.  0.  0.  0.  0.  1.  0.  0.  0.  0.  0.  0.  0.  0.  0.  0.  0.  0.\n",
      "  0.  0.  0.  0.  1.  0.  0.  0.  0.  0.  0.  0.  0.  1.  0.  0.  1.  0.\n",
      "  0.  0.  0.  0.  0.  0.  0.  0.  0.  0.  0.  0.  0.  0.  0.  0.  0.  0.\n",
      "  1.  0.  0.  1.  0.  0.  1.  0.  1.  0.  0.  0.  0.  0.  0.  0.  0.  0.\n",
      "  1.  1.  0.  0.  1.  0.  1.  0.  0.  0.  0.  0.  0.  0.  0.  1.  0.  0.\n",
      "  1.  0.  0.  1.  0.  0.  0.  0.  0.  0.  0.  0.  1.  0.  0.  0.  0.  1.\n",
      "  1.  0.  0.  0.  1.  0.  0.  0.  0.  0.  1.  0.  0.  0.  0.  0.  1.  0.\n",
      "  0.  0.  0.  0.  1.  0.  1.  1.  0.  0.  0.  0.  1.  0.  0.  0.  0.  1.\n",
      "  0.  0.  1.  0.  0.  0.  0.  0.  1.  1.  1.  0.  0.  0.  0.  0.  0.  1.\n",
      "  0.  0.  0.  0.  0.  1.  0.  0.  0.  0.  0.  0.  0.  0.  1.  0.  0.  0.\n",
      "  0.  0.  0.  1.  0.  0.  0.  0.  0.  0.  1.  0.  0.  0.  0.  0.  0.  0.\n",
      "  0.  0.  0.  0.  0.  0.  1.  0.  1.  0.  1.  0.  0.  1.  0.  1.  1.  0.\n",
      "  0.  0.  0.  0.  0.  0.  1.  0.  0.  0.  0.  0.  0.  0.  0.  0.  0.  0.\n",
      "  0.  0.  0.  1.  0.  1.  0.  1.  1.  0.  0.  1.  0.  1.  1.  1.  0.  0.\n",
      "  0.  1.  1.  0.  1.  0.  0.  1.  0.  0.  1.  0.  1.  0.  0.  0.  0.  0.\n",
      "  0.  0.  1.  0.  0.  0.  0.  1.  1.  0.  0.  0.  1.  0.  1.  0.  1.  0.\n",
      "  0.  0.  0.  0.  0.  0.  0.  0.  0.  0.  0.  0.  0.  1.  1.  0.  0.  0.\n",
      "  0.  0.  0.  0.  0.  0.  0.  0.  0.  1.  0.  0.  0.  0.  0.  1.  0.  0.\n",
      "  1.  0.  1.  0.  0.  1.  0.  0.  0.  0.  0.  0.  1.  0.  0.  0.  0.  0.\n",
      "  0.  0.  1.  0.  0.  0.  0.  0.  1.  1.  0.  0.  0.  0.  0.  0.  0.  0.\n",
      "  1.  0.  0.  0.  0.  0.  0.  0.  0.  1.  1.  0.  0.  0.  0.  1.  0.  0.\n",
      "  0.  1.  0.  1.  0.  1.  1.  1.  0.  0.  1.  0.  0.  1.  0.  0.  0.  0.\n",
      "  0.  0.  0.  0.  0.  0.  0.  0.  0.  0.  1.  1.  1.  0.  0.  0.  0.  1.\n",
      "  0.  0.  0.  0.  0.  1.  0.  0.  0.  0.  0.  0.  0.  1.  0.  1.  1.  0.\n",
      "  0.  0.  1.  0.  0.  1.  0.  0.  0.  0.  0.  1.  1.  0.  0.  1.  0.  0.\n",
      "  0.  1.  0.  1.  0.  1.  1.  0.  0.  0.  1.  1.  0.  0.  0.  0.  1.  1.\n",
      "  0.  0.  0.  0.  1.  0.  0.  0.  1.  0.  0.  0.  0.  0.  0.  1.  0.  0.\n",
      "  0.  0.  0.  0.] \n",
      "yTest [ 0.  1.  1.  1.  1.  0.  0.  1.  0.  1.  0.  0.  0.  1.  1.  0.  0.  0.\n",
      "  0.  1.  0.  0.  1.  0.  0.  0.  0.  1.  0.  1.  1.  0.  0.  1.  0.  1.\n",
      "  0.  0.  0.  0.  0.  0.  1.  1.  0.  0.  0.  0.  0.  1.  1.  1.  0.  0.\n",
      "  1.  1.  0.  0.  0.  0.  0.  0.  0.  1.  0.  0.  0.  0.  0.  1.  0.  1.\n",
      "  0.  0.  0.  0.  0.  0.  0.  0.  1.  1.  0.  0.  1.  0.  0.  1.  0.  0.\n",
      "  0.  0.  0.  0.  1.  1.  0.  0.  0.  0.  1.  0.  0.  1.  0.  0.  0.  1.\n",
      "  1.  0.  0.  0.  0.  0.  0.  0.  0.  0.  0.  0.  1.  0.  1.  0.  1.  0.\n",
      "  0.  0.  0.  0.  0.  0.  1.  1.  1.  0.  0.  0.  0.  0.  0.  0.  0.  0.\n",
      "  0.  0.  0.  0.  0.  0.]\n"
     ]
    }
   ],
   "source": [
    "# Estandarizamos los datos\n",
    "scaler = preprocessing.StandardScaler().fit(xPrep)\n",
    "x=scaler.transform(xPrep)\n",
    "\n",
    "# Dividimos el conjunto en entrenamiento y test\n",
    "xTrain, xTest, yTrain, yTest = cross_validation.train_test_split(x, y, test_size=0.2, random_state=0)\n",
    "print 'xTrain', xTrain, \"\\nxTest\", xTest, \"\\nyTrain\", yTrain, \"\\nyTest\", yTest"
   ]
  },
  {
   "cell_type": "markdown",
   "metadata": {},
   "source": [
    "## d. Realiza la experimentación con KNN (KNeighborsClassifier) usando como hiper-parámetro el número de vecinos."
   ]
  },
  {
   "cell_type": "code",
   "execution_count": 10,
   "metadata": {},
   "outputs": [
    {
     "name": "stdout",
     "output_type": "stream",
     "text": [
      "Best hyperparameters {'n_neighbors': 4, 'weights': 'uniform'}\n",
      "0.719 (+/-0.026) for {'n_neighbors': 1, 'weights': 'uniform'}\n",
      "()\n",
      "0.719 (+/-0.026) for {'n_neighbors': 1, 'weights': 'distance'}\n",
      "()\n",
      "0.768 (+/-0.021) for {'n_neighbors': 2, 'weights': 'uniform'}\n",
      "()\n",
      "0.729 (+/-0.034) for {'n_neighbors': 2, 'weights': 'distance'}\n",
      "()\n",
      "0.751 (+/-0.018) for {'n_neighbors': 3, 'weights': 'uniform'}\n",
      "()\n",
      "0.739 (+/-0.020) for {'n_neighbors': 3, 'weights': 'distance'}\n",
      "()\n",
      "0.771 (+/-0.031) for {'n_neighbors': 4, 'weights': 'uniform'}\n",
      "()\n",
      "0.746 (+/-0.028) for {'n_neighbors': 4, 'weights': 'distance'}\n",
      "()\n",
      "0.749 (+/-0.030) for {'n_neighbors': 5, 'weights': 'uniform'}\n",
      "()\n",
      "0.727 (+/-0.025) for {'n_neighbors': 5, 'weights': 'distance'}\n",
      "()\n"
     ]
    }
   ],
   "source": [
    "# Create color maps\n",
    "cmap_bold = ListedColormap(['#FF0000', '#00FF00', '#0000FF'])\n",
    "\n",
    "################################################################\n",
    "#KNN results\n",
    "################################################################\n",
    "\n",
    "#Generate grid search\n",
    "hyperParams = {'n_neighbors': range(1,6), \n",
    "               'weights': ['uniform', 'distance']}\n",
    "\n",
    "#Create an instance of Neighbors Classifier and fit the data for the grid parameters\n",
    "modelCV = GridSearchCV(neighbors.KNeighborsClassifier(), \n",
    "                     hyperParams, cv=5, scoring='accuracy')\n",
    "modelCV.fit(xTrain, yTrain)\n",
    "print \"Best hyperparameters\", modelCV.best_params_\n",
    "neighList, errList, devList = [], [], []\n",
    "for hyperP, mean_score, scores in modelCV.grid_scores_:\n",
    "    print(\"%0.3f (+/-%0.03f) for %r\"\n",
    "              % (mean_score, scores.std(), hyperP))\n",
    "    if hyperP['weights'] == modelCV.best_params_['weights']:\n",
    "        neighList.append(hyperP['n_neighbors'])\n",
    "        errList.append(1-mean_score)\n",
    "        devList.append(scores.std())\n",
    "    print()"
   ]
  },
  {
   "cell_type": "markdown",
   "metadata": {},
   "source": [
    "### i. Muestra la gráfica del error de entrenamiento con validación cruzada (5-CV) frente al valor del hiper-parámetro, y justifica la elección del valor más apropiado."
   ]
  },
  {
   "cell_type": "code",
   "execution_count": 15,
   "metadata": {},
   "outputs": [
    {
     "data": {
      "image/png": "[encoded data removed]",
      "text/plain": [
       "<matplotlib.figure.Figure at 0x7f0e03745ed0>"
      ]
     },
     "metadata": {},
     "output_type": "display_data"
    }
   ],
   "source": [
    "plt.errorbar(neighList, errList, yerr = devList)\n",
    "plt.show()"
   ]
  },
  {
   "cell_type": "markdown",
   "metadata": {},
   "source": [
    "### ii. Muestra la gráfica del error de test frente al valor del hiper-parámetro, y valora si la gráfica del error de entrenamiento con validación cruzada ha hecho una buena estimación del error de test."
   ]
  },
  {
   "cell_type": "code",
   "execution_count": 12,
   "metadata": {},
   "outputs": [
    {
     "data": {
      "image/png": "[encoded data removed]",
      "text/plain": [
       "<matplotlib.figure.Figure at 0x7f0e038f9910>"
      ]
     },
     "metadata": {},
     "output_type": "display_data"
    }
   ],
   "source": [
    "#Test error\n",
    "testErrList=[]\n",
    "for nNeighbors in range(1, 6):\n",
    "    model = neighbors.KNeighborsClassifier(n_neighbors = nNeighbors)\n",
    "    model.fit(xTrain, yTrain)\n",
    "    yPred=model.predict(xTest)\n",
    "    testErrList.append(1-metrics.accuracy_score(yTest,yPred))\n",
    "\n",
    "plt.errorbar(neighList, testErrList)\n",
    "plt.show()"
   ]
  },
  {
   "cell_type": "code",
   "execution_count": 13,
   "metadata": {},
   "outputs": [
    {
     "data": {
      "image/png": "[encoded data removed]",
      "text/plain": [
       "<matplotlib.figure.Figure at 0x7f0e03873910>"
      ]
     },
     "metadata": {},
     "output_type": "display_data"
    }
   ],
   "source": [
    "plt.errorbar(neighList, errList, yerr = devList)\n",
    "plt.xlim(neighList[0]-1, neighList[len(neighList)-1]+1)\n",
    "plt.errorbar(neighList, testErrList)\n",
    "plt.show()"
   ]
  },
  {
   "cell_type": "markdown",
   "metadata": {},
   "source": [
    "# 3. Repite el ejercicio 2 pero para el problema de regresión Energy Efficiency con la variable de salida cooling load. Al ser un problema de regresión deberás utilizar KNeighborsRegressor, y como medida de error de entrenamiento y test el MSE."
   ]
  },
  {
   "cell_type": "markdown",
   "metadata": {},
   "source": [
    "## a. Analiza las características del conjunto de datos: número y tipo de variables de entrada y salida, número de instancias, número de clases y distribución de las mismas, valores perdidos, etc."
   ]
  },
  {
   "cell_type": "markdown",
   "metadata": {},
   "source": [
    "Abriendo con un editor de texto el conjunto de datos podemos observar las siguientes características:\n",
    "* Número de variables de entrada: 8\n",
    "* Tipo de variables de entrada: Números decimales.\n",
    "* Número de variables de salida: 1\n",
    "* Tipo de variables de salida: Número decimal que representa cooling load."
   ]
  },
  {
   "cell_type": "markdown",
   "metadata": {},
   "source": [
    "El resto de características se pueden ver fácilmente tras cargar el dataset en python:"
   ]
  },
  {
   "cell_type": "code",
   "execution_count": 26,
   "metadata": {},
   "outputs": [],
   "source": [
    "# Cargamos el dataset\n",
    "energyEfficiencyDataset = np.loadtxt('EnergyEfficiency.data', delimiter=',', skiprows=1)\n",
    "# Separamos las variables predictoras de los resultados\n",
    "xRaw = energyEfficiencyDataset[:,0:energyEfficiencyDataset.shape[1]-1]\n",
    "yRaw = energyEfficiencyDataset[:,energyEfficiencyDataset.shape[1]-1]"
   ]
  },
  {
   "cell_type": "markdown",
   "metadata": {},
   "source": [
    "* Número de instancias:"
   ]
  },
  {
   "cell_type": "code",
   "execution_count": 21,
   "metadata": {},
   "outputs": [
    {
     "data": {
      "text/plain": [
       "768"
      ]
     },
     "execution_count": 21,
     "metadata": {},
     "output_type": "execute_result"
    }
   ],
   "source": [
    "n = len(energyEfficiencyDataset)\n",
    "n"
   ]
  },
  {
   "cell_type": "markdown",
   "metadata": {},
   "source": [
    "* Número de clases y su distribución:"
   ]
  },
  {
   "cell_type": "code",
   "execution_count": 22,
   "metadata": {},
   "outputs": [
    {
     "name": "stdout",
     "output_type": "stream",
     "text": [
      "Class:  16.75  -  0 %\n",
      "Class:  14.5  -  0 %\n",
      "Class:  37.45  -  0 %\n",
      "Class:  14.75  -  0 %\n",
      "Class:  15.84  -  0 %\n",
      "Class:  19.18  -  0 %\n",
      "Class:  15.0  -  0 %\n",
      "Class:  16.0  -  0 %\n",
      "Class:  17.0  -  0 %\n",
      "Class:  17.15  -  0 %\n",
      "Class:  30.0  -  0 %\n",
      "Class:  31.0  -  0 %\n",
      "Class:  32.0  -  0 %\n",
      "Class:  34.0  -  0 %\n",
      "Class:  15.35  -  0 %\n",
      "Class:  36.93  -  0 %\n",
      "Class:  21.97  -  0 %\n",
      "Class:  13.97  -  0 %\n",
      "Class:  19.76  -  0 %\n",
      "Class:  17.14  -  0 %\n",
      "Class:  29.79  -  0 %\n",
      "Class:  33.16  -  0 %\n",
      "Class:  15.63  -  0 %\n",
      "Class:  15.32  -  0 %\n",
      "Class:  29.43  -  0 %\n",
      "Class:  30.02  -  0 %\n",
      "Class:  14.94  -  0 %\n",
      "Class:  33.24  -  0 %\n",
      "Class:  15.14  -  0 %\n",
      "Class:  27.93  -  0 %\n",
      "Class:  34.52  -  0 %\n",
      "Class:  13.46  -  0 %\n",
      "Class:  31.71  -  0 %\n",
      "Class:  30.19  -  0 %\n",
      "Class:  26.53  -  0 %\n",
      "Class:  13.39  -  0 %\n",
      "Class:  36.1  -  0 %\n",
      "Class:  29.69  -  0 %\n",
      "Class:  15.76  -  0 %\n",
      "Class:  12.08  -  0 %\n",
      "Class:  25.89  -  0 %\n",
      "Class:  16.35  -  0 %\n",
      "Class:  14.4  -  0 %\n",
      "Class:  12.22  -  0 %\n",
      "Class:  38.33  -  0 %\n",
      "Class:  16.11  -  0 %\n",
      "Class:  14.87  -  0 %\n",
      "Class:  18.14  -  0 %\n",
      "Class:  15.53  -  0 %\n",
      "Class:  32.77  -  0 %\n",
      "Class:  38.23  -  0 %\n",
      "Class:  40.77  -  0 %\n",
      "Class:  14.33  -  0 %\n",
      "Class:  37.51  -  0 %\n",
      "Class:  45.59  -  0 %\n",
      "Class:  29.56  -  0 %\n",
      "Class:  16.69  -  0 %\n",
      "Class:  21.13  -  0 %\n",
      "Class:  38.48  -  0 %\n",
      "Class:  13.5  -  0 %\n",
      "Class:  36.07  -  0 %\n",
      "Class:  30.91  -  0 %\n",
      "Class:  37.35  -  0 %\n",
      "Class:  19.23  -  0 %\n",
      "Class:  40.63  -  0 %\n",
      "Class:  17.11  -  0 %\n",
      "Class:  34.73  -  0 %\n",
      "Class:  43.3  -  0 %\n",
      "Class:  13.44  -  0 %\n",
      "Class:  29.93  -  0 %\n",
      "Class:  13.6  -  0 %\n",
      "Class:  25.6  -  0 %\n",
      "Class:  16.74  -  0 %\n",
      "Class:  19.14  -  0 %\n",
      "Class:  43.86  -  0 %\n",
      "Class:  25.38  -  0 %\n",
      "Class:  47.01  -  0 %\n",
      "Class:  16.78  -  0 %\n",
      "Class:  33.14  -  0 %\n",
      "Class:  34.25  -  0 %\n",
      "Class:  20.78  -  0 %\n",
      "Class:  15.85  -  0 %\n",
      "Class:  45.29  -  0 %\n",
      "Class:  24.61  -  0 %\n",
      "Class:  33.64  -  0 %\n",
      "Class:  35.28  -  0 %\n",
      "Class:  26.02  -  0 %\n",
      "Class:  10.9  -  0 %\n",
      "Class:  30.66  -  0 %\n",
      "Class:  39.7  -  0 %\n",
      "Class:  19.3  -  0 %\n",
      "Class:  16.94  -  0 %\n",
      "Class:  21.16  -  0 %\n",
      "Class:  11.73  -  0 %\n",
      "Class:  19.29  -  0 %\n",
      "Class:  20.47  -  0 %\n",
      "Class:  17.27  -  0 %\n",
      "Class:  32.93  -  0 %\n",
      "Class:  29.4  -  0 %\n",
      "Class:  36.21  -  0 %\n",
      "Class:  34.15  -  0 %\n",
      "Class:  19.9  -  0 %\n",
      "Class:  29.31  -  0 %\n",
      "Class:  33.62  -  0 %\n",
      "Class:  39.41  -  0 %\n",
      "Class:  45.97  -  0 %\n",
      "Class:  22.07  -  0 %\n",
      "Class:  36.77  -  0 %\n",
      "Class:  31.76  -  0 %\n",
      "Class:  38.18  -  0 %\n",
      "Class:  25.88  -  0 %\n",
      "Class:  30.53  -  0 %\n",
      "Class:  16.77  -  0 %\n",
      "Class:  11.29  -  0 %\n",
      "Class:  26.44  -  0 %\n",
      "Class:  16.43  -  0 %\n",
      "Class:  32.46  -  0 %\n",
      "Class:  25.81  -  0 %\n",
      "Class:  35.62  -  0 %\n",
      "Class:  12.14  -  0 %\n",
      "Class:  21.09  -  0 %\n",
      "Class:  34.48  -  0 %\n",
      "Class:  45.28  -  0 %\n",
      "Class:  20.82  -  0 %\n",
      "Class:  31.73  -  0 %\n",
      "Class:  37.76  -  0 %\n",
      "Class:  25.82  -  0 %\n",
      "Class:  38.56  -  0 %\n",
      "Class:  40.66  -  0 %\n",
      "Class:  33.84  -  0 %\n",
      "Class:  25.95  -  0 %\n",
      "Class:  13.21  -  0 %\n",
      "Class:  30.93  -  0 %\n",
      "Class:  31.53  -  0 %\n",
      "Class:  15.77  -  0 %\n",
      "Class:  21.33  -  0 %\n",
      "Class:  27.4  -  0 %\n",
      "Class:  19.37  -  0 %\n",
      "Class:  33.04  -  0 %\n",
      "Class:  15.41  -  0 %\n",
      "Class:  28.61  -  0 %\n",
      "Class:  31.01  -  0 %\n",
      "Class:  30.89  -  0 %\n",
      "Class:  12.23  -  0 %\n",
      "Class:  32.88  -  0 %\n",
      "Class:  16.79  -  0 %\n",
      "Class:  16.03  -  0 %\n",
      "Class:  19.42  -  0 %\n",
      "Class:  14.2  -  0 %\n",
      "Class:  18.15  -  0 %\n",
      "Class:  29.34  -  0 %\n",
      "Class:  12.05  -  0 %\n",
      "Class:  17.25  -  0 %\n",
      "Class:  15.52  -  0 %\n",
      "Class:  33.34  -  0 %\n",
      "Class:  17.37  -  0 %\n",
      "Class:  26.18  -  0 %\n",
      "Class:  32.83  -  0 %\n",
      "Class:  12.07  -  0 %\n",
      "Class:  34.11  -  0 %\n",
      "Class:  35.39  -  0 %\n",
      "Class:  20.13  -  0 %\n",
      "Class:  29.78  -  0 %\n",
      "Class:  17.79  -  0 %\n",
      "Class:  14.83  -  0 %\n",
      "Class:  17.03  -  0 %\n",
      "Class:  11.27  -  0 %\n",
      "Class:  34.05  -  0 %\n",
      "Class:  25.64  -  0 %\n",
      "Class:  33.95  -  0 %\n",
      "Class:  16.81  -  0 %\n",
      "Class:  34.62  -  0 %\n",
      "Class:  34.14  -  0 %\n",
      "Class:  25.11  -  0 %\n",
      "Class:  35.99  -  0 %\n",
      "Class:  19.43  -  0 %\n",
      "Class:  43.73  -  0 %\n",
      "Class:  16.27  -  0 %\n",
      "Class:  34.07  -  0 %\n",
      "Class:  18.03  -  0 %\n",
      "Class:  17.04  -  0 %\n",
      "Class:  39.66  -  0 %\n",
      "Class:  20.71  -  0 %\n",
      "Class:  12.04  -  0 %\n",
      "Class:  46.94  -  0 %\n",
      "Class:  20.01  -  0 %\n",
      "Class:  17.32  -  0 %\n",
      "Class:  17.39  -  0 %\n",
      "Class:  39.55  -  0 %\n",
      "Class:  16.61  -  0 %\n",
      "Class:  29.88  -  0 %\n",
      "Class:  31.6  -  0 %\n",
      "Class:  14.81  -  0 %\n",
      "Class:  16.67  -  0 %\n",
      "Class:  34.45  -  0 %\n",
      "Class:  13.65  -  0 %\n",
      "Class:  17.86  -  0 %\n",
      "Class:  26.14  -  0 %\n",
      "Class:  36.73  -  0 %\n",
      "Class:  34.01  -  0 %\n",
      "Class:  38.81  -  0 %\n",
      "Class:  13.75  -  0 %\n",
      "Class:  33.54  -  0 %\n",
      "Class:  26.3  -  0 %\n",
      "Class:  25.02  -  0 %\n",
      "Class:  28.79  -  0 %\n",
      "Class:  13.79  -  0 %\n",
      "Class:  35.29  -  0 %\n",
      "Class:  40.99  -  0 %\n",
      "Class:  35.48  -  0 %\n",
      "Class:  33.85  -  0 %\n",
      "Class:  28.2  -  0 %\n",
      "Class:  33.13  -  0 %\n",
      "Class:  33.98  -  0 %\n",
      "Class:  22.49  -  0 %\n",
      "Class:  20.03  -  0 %\n",
      "Class:  19.48  -  0 %\n",
      "Class:  17.36  -  0 %\n",
      "Class:  15.18  -  0 %\n",
      "Class:  16.85  -  0 %\n",
      "Class:  14.28  -  0 %\n",
      "Class:  26.95  -  0 %\n",
      "Class:  30.18  -  0 %\n",
      "Class:  38.79  -  0 %\n",
      "Class:  14.6  -  0 %\n",
      "Class:  39.92  -  0 %\n",
      "Class:  19.34  -  0 %\n",
      "Class:  28.99  -  0 %\n",
      "Class:  16.39  -  0 %\n",
      "Class:  22.73  -  0 %\n",
      "Class:  11.74  -  0 %\n",
      "Class:  25.63  -  0 %\n",
      "Class:  14.21  -  0 %\n",
      "Class:  14.48  -  0 %\n",
      "Class:  29.67  -  0 %\n",
      "Class:  32.92  -  0 %\n",
      "Class:  22.09  -  0 %\n",
      "Class:  15.22  -  0 %\n",
      "Class:  28.14  -  0 %\n",
      "Class:  14.54  -  0 %\n",
      "Class:  15.56  -  0 %\n",
      "Class:  31.27  -  0 %\n",
      "Class:  18.36  -  0 %\n",
      "Class:  46.23  -  0 %\n",
      "Class:  13.88  -  0 %\n",
      "Class:  28.68  -  0 %\n",
      "Class:  36.2  -  0 %\n",
      "Class:  17.55  -  0 %\n",
      "Class:  41.22  -  0 %\n",
      "Class:  29.6  -  0 %\n",
      "Class:  21.19  -  0 %\n",
      "Class:  14.58  -  0 %\n",
      "Class:  15.28  -  0 %\n",
      "Class:  36.15  -  0 %\n",
      "Class:  15.99  -  0 %\n",
      "Class:  14.45  -  0 %\n",
      "Class:  39.48  -  0 %\n",
      "Class:  31.9  -  0 %\n",
      "Class:  17.38  -  0 %\n",
      "Class:  21.4  -  0 %\n",
      "Class:  33.91  -  0 %\n",
      "Class:  13.77  -  0 %\n",
      "Class:  37.19  -  0 %\n",
      "Class:  14.55  -  0 %\n",
      "Class:  14.91  -  0 %\n",
      "Class:  15.4  -  0 %\n",
      "Class:  29.58  -  0 %\n",
      "Class:  40.47  -  0 %\n",
      "Class:  16.6  -  0 %\n",
      "Class:  37.27  -  0 %\n",
      "Class:  15.38  -  0 %\n",
      "Class:  14.38  -  0 %\n",
      "Class:  15.23  -  0 %\n",
      "Class:  16.26  -  0 %\n",
      "Class:  33.37  -  0 %\n",
      "Class:  24.77  -  0 %\n",
      "Class:  34.99  -  0 %\n",
      "Class:  14.37  -  0 %\n",
      "Class:  14.76  -  0 %\n",
      "Class:  17.02  -  0 %\n",
      "Class:  14.74  -  0 %\n",
      "Class:  31.2  -  0 %\n",
      "Class:  15.44  -  0 %\n",
      "Class:  16.06  -  0 %\n",
      "Class:  45.52  -  0 %\n",
      "Class:  31.7  -  0 %\n",
      "Class:  27.84  -  0 %\n",
      "Class:  14.42  -  0 %\n",
      "Class:  27.34  -  0 %\n",
      "Class:  33.78  -  0 %\n",
      "Class:  43.14  -  0 %\n",
      "Class:  36.26  -  0 %\n",
      "Class:  36.12  -  0 %\n",
      "Class:  17.74  -  0 %\n",
      "Class:  44.16  -  0 %\n",
      "Class:  26.41  -  0 %\n",
      "Class:  14.09  -  0 %\n",
      "Class:  21.08  -  0 %\n",
      "Class:  15.73  -  0 %\n",
      "Class:  16.58  -  0 %\n",
      "Class:  15.78  -  0 %\n",
      "Class:  44.87  -  0 %\n",
      "Class:  16.22  -  0 %\n",
      "Class:  16.62  -  0 %\n",
      "Class:  37.54  -  0 %\n",
      "Class:  16.86  -  0 %\n",
      "Class:  19.26  -  0 %\n",
      "Class:  15.24  -  0 %\n",
      "Class:  40.1  -  0 %\n",
      "Class:  15.09  -  0 %\n",
      "Class:  29.87  -  0 %\n",
      "Class:  31.14  -  0 %\n",
      "Class:  15.89  -  0 %\n",
      "Class:  27.54  -  0 %\n",
      "Class:  14.92  -  0 %\n",
      "Class:  20.21  -  0 %\n",
      "Class:  20.19  -  0 %\n",
      "Class:  14.39  -  0 %\n",
      "Class:  16.5  -  0 %\n",
      "Class:  15.64  -  0 %\n",
      "Class:  16.7  -  0 %\n",
      "Class:  20.72  -  0 %\n",
      "Class:  39.85  -  0 %\n",
      "Class:  43.33  -  0 %\n",
      "Class:  11.93  -  0 %\n",
      "Class:  33.89  -  0 %\n",
      "Class:  16.8  -  0 %\n",
      "Class:  33.17  -  0 %\n",
      "Class:  15.59  -  0 %\n",
      "Class:  37.29  -  0 %\n",
      "Class:  34.94  -  0 %\n",
      "Class:  36.81  -  0 %\n",
      "Class:  15.42  -  0 %\n",
      "Class:  39.28  -  0 %\n",
      "Class:  15.27  -  0 %\n",
      "Class:  14.89  -  0 %\n",
      "Class:  19.25  -  0 %\n",
      "Class:  26.37  -  0 %\n",
      "Class:  43.12  -  0 %\n",
      "Class:  40.4  -  0 %\n",
      "Class:  19.65  -  0 %\n",
      "Class:  14.26  -  0 %\n",
      "Class:  32.96  -  0 %\n",
      "Class:  29.13  -  0 %\n",
      "Class:  14.11  -  0 %\n",
      "Class:  14.57  -  0 %\n",
      "Class:  26.29  -  0 %\n",
      "Class:  36.16  -  0 %\n",
      "Class:  13.87  -  0 %\n",
      "Class:  13.57  -  0 %\n",
      "Class:  24.93  -  0 %\n",
      "Class:  39.44  -  0 %\n",
      "Class:  15.19  -  0 %\n",
      "Class:  15.39  -  0 %\n",
      "Class:  13.89  -  0 %\n",
      "Class:  27.57  -  0 %\n",
      "Class:  13.71  -  0 %\n",
      "Class:  17.21  -  0 %\n",
      "Class:  15.07  -  0 %\n",
      "Class:  17.64  -  0 %\n",
      "Class:  14.44  -  0 %\n",
      "Class:  22.72  -  0 %\n",
      "Class:  28.51  -  0 %\n",
      "Class:  11.72  -  0 %\n",
      "Class:  32.54  -  0 %\n",
      "Class:  28.43  -  0 %\n",
      "Class:  13.83  -  0 %\n",
      "Class:  17.85  -  0 %\n",
      "Class:  14.15  -  0 %\n",
      "Class:  14.47  -  0 %\n",
      "Class:  27.03  -  0 %\n",
      "Class:  33.23  -  0 %\n",
      "Class:  32.64  -  0 %\n",
      "Class:  14.46  -  0 %\n",
      "Class:  33.31  -  0 %\n",
      "Class:  16.19  -  0 %\n",
      "Class:  14.24  -  0 %\n",
      "Class:  15.57  -  0 %\n",
      "Class:  19.24  -  0 %\n",
      "Class:  14.12  -  0 %\n",
      "Class:  16.13  -  0 %\n",
      "Class:  29.77  -  0 %\n",
      "Class:  11.19  -  0 %\n",
      "Class:  39.07  -  0 %\n",
      "Class:  27.76  -  0 %\n",
      "Class:  33.86  -  0 %\n",
      "Class:  37.26  -  0 %\n",
      "Class:  36.35  -  0 %\n",
      "Class:  28.95  -  0 %\n",
      "Class:  21.68  -  0 %\n",
      "Class:  48.03  -  0 %\n",
      "Class:  27.25  -  0 %\n",
      "Class:  20.28  -  0 %\n",
      "Class:  30.65  -  0 %\n",
      "Class:  32.71  -  0 %\n",
      "Class:  14.3  -  0 %\n",
      "Class:  18.24  -  0 %\n",
      "Class:  29.64  -  0 %\n",
      "Class:  36.86  -  0 %\n",
      "Class:  28.88  -  0 %\n",
      "Class:  31.28  -  0 %\n",
      "Class:  32.35  -  0 %\n",
      "Class:  39.8  -  0 %\n",
      "Class:  13.51  -  0 %\n",
      "Class:  29.92  -  0 %\n",
      "Class:  19.32  -  0 %\n",
      "Class:  14.86  -  0 %\n",
      "Class:  37.7  -  0 %\n",
      "Class:  33.06  -  0 %\n",
      "Class:  29.52  -  0 %\n",
      "Class:  16.63  -  0 %\n",
      "Class:  29.45  -  0 %\n",
      "Class:  34.7  -  0 %\n",
      "Class:  29.44  -  0 %\n",
      "Class:  20.37  -  0 %\n",
      "Class:  39.37  -  0 %\n",
      "Class:  37.58  -  0 %\n",
      "Class:  33.93  -  0 %\n",
      "Class:  34.35  -  0 %\n",
      "Class:  43.66  -  0 %\n",
      "Class:  25.91  -  0 %\n",
      "Class:  16.57  -  0 %\n",
      "Class:  26.96  -  0 %\n",
      "Class:  36.44  -  0 %\n",
      "Class:  35.1  -  0 %\n",
      "Class:  17.63  -  0 %\n",
      "Class:  33.52  -  0 %\n",
      "Class:  28.27  -  0 %\n",
      "Class:  36.87  -  0 %\n"
     ]
    },
    {
     "name": "stdout",
     "output_type": "stream",
     "text": [
      "Class:  26.72  -  0 %\n",
      "Class:  16.99  -  0 %\n",
      "Class:  26.08  -  0 %\n",
      "Class:  20.48  -  0 %\n",
      "Class:  13.59  -  0 %\n",
      "Class:  15.33  -  0 %\n",
      "Class:  28.31  -  0 %\n",
      "Class:  14.23  -  0 %\n",
      "Class:  17.95  -  0 %\n",
      "Class:  13.7  -  0 %\n",
      "Class:  29.59  -  0 %\n",
      "Class:  45.48  -  0 %\n",
      "Class:  32.28  -  0 %\n",
      "Class:  17.23  -  0 %\n",
      "Class:  36.76  -  0 %\n",
      "Class:  16.93  -  0 %\n",
      "Class:  35.56  -  0 %\n",
      "Class:  16.17  -  0 %\n",
      "Class:  27.3  -  0 %\n",
      "Class:  38.84  -  0 %\n",
      "Class:  15.1  -  0 %\n",
      "Class:  13.72  -  0 %\n",
      "Class:  32.43  -  0 %\n",
      "Class:  14.34  -  0 %\n",
      "Class:  17.47  -  0 %\n",
      "Class:  15.95  -  0 %\n",
      "Class:  27.87  -  0 %\n",
      "Class:  15.66  -  0 %\n",
      "Class:  30.11  -  0 %\n",
      "Class:  38.35  -  0 %\n",
      "Class:  17.51  -  0 %\n",
      "Class:  15.48  -  0 %\n",
      "Class:  14.72  -  0 %\n",
      "Class:  27.17  -  0 %\n",
      "Class:  42.86  -  0 %\n",
      "Class:  25.98  -  0 %\n",
      "Class:  33.88  -  0 %\n",
      "Class:  16.87  -  0 %\n",
      "Class:  25.68  -  0 %\n",
      "Class:  27.38  -  0 %\n",
      "Class:  15.21  -  0 %\n",
      "Class:  13.8  -  0 %\n",
      "Class:  29.53  -  0 %\n",
      "Class:  45.13  -  0 %\n",
      "Class:  31.39  -  0 %\n",
      "Class:  25.9  -  0 %\n",
      "Class:  13.32  -  0 %\n",
      "Class:  28.77  -  0 %\n",
      "Class:  33.67  -  0 %\n",
      "Class:  39.67  -  0 %\n",
      "Class:  20.43  -  0 %\n",
      "Class:  28.38  -  0 %\n",
      "Class:  14.71  -  0 %\n",
      "Class:  37.79  -  0 %\n",
      "Class:  32.95  -  0 %\n",
      "Class:  15.8  -  0 %\n",
      "Class:  25.16  -  0 %\n",
      "Class:  11.67  -  0 %\n",
      "Class:  13.36  -  0 %\n",
      "Class:  14.18  -  0 %\n",
      "Class:  44.18  -  0 %\n",
      "Class:  37.28  -  0 %\n",
      "Class:  28.02  -  0 %\n",
      "Class:  21.72  -  0 %\n",
      "Class:  36.66  -  0 %\n",
      "Class:  27.33  -  0 %\n",
      "Class:  33.94  -  0 %\n",
      "Class:  41.07  -  0 %\n",
      "Class:  35.22  -  0 %\n",
      "Class:  10.94  -  0 %\n",
      "Class:  20.46  -  0 %\n",
      "Class:  22.25  -  0 %\n",
      "Class:  18.1  -  0 %\n",
      "Class:  39.22  -  0 %\n",
      "Class:  30.08  -  0 %\n",
      "Class:  17.89  -  0 %\n",
      "Class:  30.1  -  0 %\n",
      "Class:  34.5  -  0 %\n",
      "Class:  25.35  -  0 %\n",
      "Class:  13.48  -  0 %\n",
      "Class:  24.8  -  0 %\n",
      "Class:  19.87  -  0 %\n",
      "Class:  16.08  -  0 %\n",
      "Class:  18.06  -  0 %\n",
      "Class:  37.73  -  0 %\n",
      "Class:  37.01  -  0 %\n",
      "Class:  37.81  -  0 %\n",
      "Class:  33.01  -  0 %\n",
      "Class:  30.12  -  0 %\n",
      "Class:  32.04  -  0 %\n",
      "Class:  20.29  -  0 %\n",
      "Class:  16.44  -  0 %\n",
      "Class:  35.73  -  0 %\n",
      "Class:  34.29  -  0 %\n",
      "Class:  36.62  -  0 %\n",
      "Class:  32.85  -  0 %\n",
      "Class:  13.2  -  0 %\n",
      "Class:  29.49  -  0 %\n",
      "Class:  29.68  -  0 %\n",
      "Class:  11.17  -  0 %\n",
      "Class:  21.93  -  0 %\n",
      "Class:  13.53  -  0 %\n",
      "Class:  14.97  -  0 %\n",
      "Class:  14.35  -  0 %\n",
      "Class:  13.67  -  0 %\n",
      "Class:  23.49  -  0 %\n",
      "Class:  27.89  -  0 %\n",
      "Class:  13.49  -  0 %\n",
      "Class:  26.13  -  0 %\n",
      "Class:  14.65  -  0 %\n",
      "Class:  21.46  -  0 %\n",
      "Class:  30.17  -  0 %\n",
      "Class:  35.92  -  0 %\n",
      "Class:  29.36  -  0 %\n",
      "Class:  15.3  -  0 %\n",
      "Class:  17.22  -  0 %\n",
      "Class:  14.29  -  0 %\n",
      "Class:  32.25  -  0 %\n",
      "Class:  41.68  -  0 %\n",
      "Class:  14.61  -  0 %\n",
      "Class:  30.34  -  0 %\n",
      "Class:  23.77  -  0 %\n",
      "Class:  13.43  -  0 %\n",
      "Class:  41.86  -  0 %\n",
      "Class:  37.2  -  0 %\n",
      "Class:  13.99  -  0 %\n",
      "Class:  15.03  -  0 %\n",
      "Class:  27.69  -  0 %\n",
      "Class:  37.72  -  0 %\n",
      "Class:  15.47  -  0 %\n",
      "Class:  33.87  -  0 %\n",
      "Class:  16.88  -  0 %\n",
      "Class:  21.53  -  0 %\n",
      "Class:  34.43  -  0 %\n",
      "Class:  35.71  -  0 %\n",
      "Class:  13.54  -  0 %\n",
      "Class:  16.1  -  0 %\n",
      "Class:  29.9  -  0 %\n",
      "Class:  24.91  -  0 %\n",
      "Class:  21.54  -  0 %\n",
      "Class:  34.2  -  0 %\n",
      "Class:  18.22  -  0 %\n",
      "Class:  31.06  -  0 %\n",
      "Class:  12.4  -  0 %\n",
      "Class:  29.61  -  0 %\n",
      "Class:  34.19  -  0 %\n",
      "Class:  33.76  -  0 %\n",
      "Class:  33.47  -  0 %\n",
      "Class:  35.04  -  0 %\n",
      "Class:  14.49  -  0 %\n",
      "Class:  15.81  -  0 %\n",
      "Class:  32.12  -  0 %\n",
      "Class:  22.53  -  0 %\n",
      "Class:  29.62  -  0 %\n",
      "Class:  29.82  -  0 %\n",
      "Class:  37.41  -  0 %\n",
      "Class:  17.1  -  0 %\n",
      "Class:  15.5  -  0 %\n",
      "Class:  16.9  -  0 %\n",
      "Class:  16.56  -  0 %\n",
      "Class:  36.85  -  0 %\n",
      "Class:  30.2  -  0 %\n",
      "Class:  40.36  -  0 %\n",
      "Class:  34.18  -  0 %\n",
      "Class:  25.84  -  0 %\n",
      "Class:  32.78  -  0 %\n",
      "Class:  41.26  -  0 %\n",
      "Class:  17.82  -  0 %\n",
      "Class:  14.73  -  0 %\n",
      "Class:  47.59  -  0 %\n",
      "Class:  46.44  -  0 %\n",
      "Class:  15.17  -  0 %\n",
      "Class:  14.27  -  0 %\n",
      "Class:  14.67  -  0 %\n",
      "Class:  27.31  -  0 %\n",
      "Class:  25.72  -  0 %\n",
      "Class:  15.37  -  0 %\n",
      "Class:  14.14  -  0 %\n",
      "Class:  27.36  -  0 %\n",
      "Class:  37.12  -  0 %\n",
      "Class:  28.76  -  0 %\n",
      "Class:  33.82  -  0 %\n",
      "Class:  15.2  -  0 %\n",
      "Class:  36.38  -  0 %\n",
      "Class:  15.83  -  0 %\n",
      "Class:  26.47  -  0 %\n",
      "Class:  16.54  -  0 %\n",
      "Class:  17.01  -  0 %\n",
      "Class:  14.03  -  0 %\n",
      "Class:  37.05  -  0 %\n",
      "Class:  38.17  -  0 %\n",
      "Class:  17.12  -  0 %\n",
      "Class:  13.9  -  0 %\n",
      "Class:  39.56  -  0 %\n",
      "Class:  29.28  -  0 %\n",
      "Class:  14.96  -  0 %\n",
      "Class:  43.8  -  0 %\n",
      "Class:  28.28  -  0 %\n",
      "Class:  20.56  -  0 %\n",
      "Class:  34.33  -  0 %\n",
      "Class:  15.87  -  0 %\n",
      "Class:  34.17  -  0 %\n",
      "Class:  17.2  -  0 %\n",
      "Class:  25.87  -  0 %\n",
      "Class:  40.85  -  0 %\n",
      "Class:  16.14  -  0 %\n",
      "Class:  15.31  -  0 %\n"
     ]
    }
   ],
   "source": [
    "results = {}\n",
    "for value in y:\n",
    "    if(value in results):\n",
    "        results[value] = results[value] + 1\n",
    "    else:\n",
    "        results[value] = 1\n",
    "\n",
    "results.keys()\n",
    "for key, value in results.iteritems():\n",
    "    print 'Class: ', key, ' - ', value*100/n, '%'"
   ]
  },
  {
   "cell_type": "markdown",
   "metadata": {},
   "source": [
    "* Valores perdidos:"
   ]
  },
  {
   "cell_type": "code",
   "execution_count": 23,
   "metadata": {},
   "outputs": [
    {
     "data": {
      "text/plain": [
       "array([], shape=(0, 2), dtype=int64)"
      ]
     },
     "execution_count": 23,
     "metadata": {},
     "output_type": "execute_result"
    }
   ],
   "source": [
    "np.argwhere(np.isnan(xRaw))"
   ]
  },
  {
   "cell_type": "markdown",
   "metadata": {},
   "source": [
    "En este caso no existen valores perdidos. Si los hubiese, sería necesario ejecutar lo siguiente:"
   ]
  },
  {
   "cell_type": "code",
   "execution_count": 34,
   "metadata": {},
   "outputs": [
    {
     "data": {
      "text/plain": [
       "[array([[  9.80000000e-01,   5.14500000e+02,   2.94000000e+02, ...,\n",
       "           2.00000000e+00,   0.00000000e+00,   0.00000000e+00],\n",
       "        [  9.80000000e-01,   5.14500000e+02,   2.94000000e+02, ...,\n",
       "           3.00000000e+00,   0.00000000e+00,   0.00000000e+00],\n",
       "        [  9.80000000e-01,   5.14500000e+02,   2.94000000e+02, ...,\n",
       "           4.00000000e+00,   0.00000000e+00,   0.00000000e+00],\n",
       "        ..., \n",
       "        [  6.20000000e-01,   8.08500000e+02,   3.67500000e+02, ...,\n",
       "           3.00000000e+00,   4.00000000e-01,   5.00000000e+00],\n",
       "        [  6.20000000e-01,   8.08500000e+02,   3.67500000e+02, ...,\n",
       "           4.00000000e+00,   4.00000000e-01,   5.00000000e+00],\n",
       "        [  6.20000000e-01,   8.08500000e+02,   3.67500000e+02, ...,\n",
       "           5.00000000e+00,   4.00000000e-01,   5.00000000e+00]])]"
      ]
     },
     "execution_count": 34,
     "metadata": {},
     "output_type": "execute_result"
    }
   ],
   "source": [
    "# Valores perdidos\n",
    "imp = Imputer(missing_values='NaN', strategy='mean', axis=0)\n",
    "xPrep = imp.fit_transform(xRaw)\n",
    "xPrep"
   ]
  },
  {
   "cell_type": "markdown",
   "metadata": {},
   "source": [
    "## b. Una de las clases que implementa el algoritmo KNN en scikit-learn es sklearn.neighbors.KNeighborsRegressor. Revisa los parámetros y métodos que tiene."
   ]
  },
  {
   "cell_type": "markdown",
   "metadata": {
    "collapsed": true
   },
   "source": [
    " class sklearn.neighbors.KNeighborsRegressor(n_neighbors=5, weights=’uniform’, algorithm=’auto’, leaf_size=30, p=2, metric=’minkowski’, metric_params=None, n_jobs=1, **kwargs)"
   ]
  },
  {
   "cell_type": "markdown",
   "metadata": {},
   "source": [
    "## c. Divide los datos en entrenamiento (80%) y test (20%)."
   ]
  },
  {
   "cell_type": "code",
   "execution_count": 37,
   "metadata": {},
   "outputs": [
    {
     "name": "stdout",
     "output_type": "stream",
     "text": [
      "xTrain [[-0.22861593  0.16235226 -1.68585446 ...,  1.34164079  1.2440492\n",
      "  -0.5242106 ]\n",
      " [-0.03941654 -0.1159659   2.24780595 ...,  0.4472136  -1.00932293\n",
      "  -0.5242106 ]\n",
      " [ 1.28497917 -1.22923856  0.         ...,  1.34164079 -1.00932293\n",
      "   1.41133622]\n",
      " ..., \n",
      " [ 1.28497917 -1.22923856  0.         ..., -0.4472136   1.2440492\n",
      "   0.12097168]\n",
      " [-0.51241501  0.44067043 -1.12390297 ...,  1.34164079  1.2440492\n",
      "  -1.16939287]\n",
      " [ 0.52818162 -0.67260223  0.         ..., -1.34164079  1.2440492\n",
      "   0.76615395]] \n",
      "xTest [[-0.98541347  0.99730676  0.         ..., -0.4472136   1.2440492\n",
      "   0.12097168]\n",
      " [-0.22861593  0.16235226 -1.68585446 ...,  0.4472136  -1.00932293\n",
      "  -0.5242106 ]\n",
      " [ 0.24438254 -0.39428407  0.56195149 ..., -0.4472136  -1.00932293\n",
      "  -0.5242106 ]\n",
      " ..., \n",
      " [-0.98541347  0.99730676  0.         ...,  0.4472136  -1.00932293\n",
      "   0.76615395]\n",
      " [-1.36381225  1.55394308  1.12390297 ...,  1.34164079  0.11736313\n",
      "   1.41133622]\n",
      " [-1.36381225  1.55394308  1.12390297 ..., -1.34164079  0.11736313\n",
      "  -0.5242106 ]] \n",
      "yTrain [ 17.03  34.17  33.01  27.54  15.95  25.72  36.85  15.81  25.63  32.83\n",
      "  16.19  21.93  15.8   35.22  15.19  35.99  40.4   15.2   31.27  44.87\n",
      "  33.88  25.98  33.37  27.25  16.81  25.64  13.65  39.56  34.15  12.22\n",
      "  15.33  24.61  13.87  14.94  27.84  15.14  14.37  15.64  20.71  14.21\n",
      "  18.14  15.87  18.22  25.68  14.18  29.68  17.01  14.97  11.93  19.76\n",
      "  27.69  35.92  14.28  18.14  15.19  15.73  25.02  17.25  34.73  29.44\n",
      "  15.5   14.34  26.18  27.76  32.71  14.48  45.13  15.32  16.74  14.83\n",
      "  35.29  32.12  34.11  14.09  15.77  17.55  11.73  38.35  15.44  16.88\n",
      "  15.44  17.79  32.43  27.4   32.83  20.21  37.28  40.99  27.17  34.43\n",
      "  17.95  31.71  33.24  23.77  41.22  18.36  33.04  21.54  25.11  33.17\n",
      "  17.89  24.93  18.24  16.62  27.34  14.67  36.38  30.53  16.13  16.85\n",
      "  28.95  31.53  24.93  29.52  29.69  25.16  20.19  20.13  30.91  36.76\n",
      "  37.76  17.2   19.34  39.22  43.66  14.58  13.21  16.61  16.11  28.61\n",
      "  35.1   14.14  29.31  30.2   26.18  32.25  14.86  19.25  13.77  14.67\n",
      "  39.8   33.78  27.57  34.19  25.95  15.84  15.95  14.58  19.43  37.29\n",
      "  14.4   21.33  12.08  13.49  36.26  29.61  31.9   14.75  17.38  14.2\n",
      "  15.56  29.36  27.38  33.62  29.43  36.87  34.45  15.07  15.83  14.11\n",
      "  37.05  40.85  14.92  17.36  14.29  10.94  14.73  18.36  38.18  29.9\n",
      "  21.33  15.    16.27  30.19  19.37  26.53  37.58  44.18  14.89  16.77\n",
      "  47.59  14.49  37.26  21.09  20.03  15.77  15.85  40.77  20.01  35.71\n",
      "  36.66  15.83  32.    33.52  32.96  41.07  15.59  33.06  29.79  35.28\n",
      "  30.12  13.8   41.26  22.73  16.63  30.02  38.81  19.34  37.01  29.6\n",
      "  32.77  17.23  37.58  30.65  39.28  19.18  20.29  37.41  14.67  31.01\n",
      "  29.58  11.29  19.87  36.21  32.54  36.1   33.31  33.94  14.34  20.72\n",
      "  30.89  27.31  35.73  33.64  30.12  13.65  21.68  15.03  34.25  32.46\n",
      "  14.81  45.48  34.5   12.4   31.6   31.14  34.    30.17  33.76  28.14\n",
      "  16.57  34.29  13.67  25.9   29.62  31.73  26.08  43.8   17.1   16.93\n",
      "  37.72  45.59  36.62  20.28  20.37  25.35  26.29  22.49  16.03  16.03\n",
      "  15.1   15.24  16.99  13.53  18.15  36.85  13.48  19.26  17.    28.27\n",
      "  16.06  28.28  21.72  37.12  39.48  35.62  33.95  25.38  14.57  17.12\n",
      "  14.74  33.82  20.48  32.35  29.79  40.36  14.54  14.24  14.26  20.46\n",
      "  29.93  19.18  15.53  13.67  39.67  15.21  33.16  15.89  13.39  14.61\n",
      "  15.31  21.46  29.77  37.51  37.79  33.84  43.12  16.7   14.28  20.43\n",
      "  14.97  31.7   29.45  39.07  22.53  25.87  13.89  33.91  35.48  17.11\n",
      "  33.85  27.36  37.73  28.51  16.17  29.43  17.86  25.63  28.99  33.47\n",
      "  16.79  21.19  19.9   29.53  45.28  27.89  16.9   36.44  22.72  14.5\n",
      "  29.59  14.45  40.1   16.35  15.57  16.61  17.51  17.32  15.48  37.35\n",
      "  34.07  15.22  14.71  35.56  14.12  21.54  25.84  29.79  11.72  33.87\n",
      "  15.27  22.09  14.44  13.6   34.52  20.47  36.2   17.14  16.7   36.86\n",
      "  14.23  19.23  28.76  38.17  28.88  33.98  29.28  33.23  15.39  19.24\n",
      "  12.05  19.37  12.07  32.64  24.91  29.56  29.92  14.96  17.21  28.38\n",
      "  28.61  13.71  32.93  46.94  29.13  16.1   46.23  38.48  13.36  36.73\n",
      "  30.11  15.8   19.32  34.11  39.66  38.23  20.78  17.74  19.42  43.33\n",
      "  10.9   15.64  13.2   13.54  26.96  28.79  34.48  25.16  36.16  16.94\n",
      "  14.46  16.6   32.92  17.85  14.61  14.15  15.59  16.39  13.72  14.03\n",
      "  14.86  48.03  29.43  34.07  15.37  11.19  24.8   32.85  31.73  33.37\n",
      "  15.09  40.47  19.3   34.25  15.78  38.33  25.82  44.16  14.72  17.51\n",
      "  39.44  21.13  33.98  13.75  14.42  14.33  14.6   19.24  13.99  27.93\n",
      "  38.79  26.3   19.14  15.99  16.56  16.94  14.39  16.79  13.59  11.74\n",
      "  14.28  45.52  27.87  16.67  13.88  12.4   27.03  16.8   14.76  16.87\n",
      "  43.3   34.14  38.84  13.79  17.15  26.13  20.56  13.32  29.4   21.53\n",
      "  17.25  15.66  15.14  15.3   31.76  15.52  17.03  17.23  30.19  36.12\n",
      "  34.99  17.27  33.91  14.27  47.01  18.06  13.36  35.39  37.81  16.5\n",
      "  15.85  14.73  17.04  14.24  13.46  13.51  31.2   12.04  16.39  25.81\n",
      "  13.9   34.7   18.03  17.22  26.95  19.32  14.3   14.89  33.78  29.49\n",
      "  25.6   15.63  34.18  37.27  33.93  16.75  22.07  36.35  15.76  14.28\n",
      "  28.02  40.63  29.87  16.58  13.2   11.27  13.83  15.35  15.23  33.88\n",
      "  29.67  29.82  22.25  33.54  45.29  29.64  16.74  13.44  29.79  16.26\n",
      "  26.14  17.02  14.27  25.89  36.26  14.35  17.82  42.86  13.43  30.66\n",
      "  39.92  15.87  14.3   13.65  39.48  37.19  16.88  15.28  28.77  16.43\n",
      "  19.65  34.14  39.7   16.54  14.81  34.01  21.97  36.81  17.39  21.4\n",
      "  25.91  35.04  17.47  28.2 ] \n",
      "yTest [ 17.63  13.57  34.62  21.16  33.34  34.2   30.18  30.34  29.82  24.61\n",
      "  11.67  38.35  14.65  39.41  37.7   31.06  13.87  34.33  15.38  15.4\n",
      "  14.38  33.13  14.14  43.86  11.17  17.37  14.47  16.69  14.27  37.54\n",
      "  13.97  16.14  46.44  16.22  29.78  36.07  16.08  36.93  17.2   16.78\n",
      "  13.7   36.77  17.2   26.41  27.3   26.02  13.89  15.17  32.83  31.    33.94\n",
      "  14.27  34.05  17.64  37.2   13.7   21.33  31.39  37.26  16.9   18.1\n",
      "  14.91  33.86  13.72  15.85  14.49  45.97  14.55  32.04  36.87  32.78\n",
      "  13.79  24.77  16.86  19.48  29.88  32.95  43.73  32.88  17.1   40.66\n",
      "  30.08  13.72  14.61  32.54  26.72  25.88  30.93  14.37  16.99  16.99\n",
      "  31.28  15.5   26.44  39.55  17.2   29.77  16.44  12.14  37.28  35.1\n",
      "  28.68  23.49  33.87  13.5   28.31  38.56  16.14  15.42  21.33  20.82\n",
      "  33.89  32.28  19.29  14.94  19.29  14.87  43.14  27.33  39.37  33.14\n",
      "  15.18  15.44  34.94  14.74  39.85  16.9   30.1   14.92  29.69  33.67\n",
      "  26.37  41.86  13.79  36.15  12.23  28.43  26.47  34.35  15.47  21.08\n",
      "  22.72  29.34  13.8   41.68  16.    32.92  37.45  14.92  15.41  30.    15.\n",
      "  14.75  15.32]\n"
     ]
    }
   ],
   "source": [
    "# Estandarizamos los datos\n",
    "scaler = preprocessing.StandardScaler().fit(xPrep)\n",
    "x=scaler.transform(xPrep)\n",
    "# En regresion debemos estandarizar tambien los datos de salida\n",
    "# scaler = preprocessing.StandardScaler().fit(yRaw)\n",
    "# y=scaler.transform(yRaw)\n",
    "y = yRaw\n",
    "\n",
    "# Dividimos el conjunto en entrenamiento y test\n",
    "xTrain, xTest, yTrain, yTest = cross_validation.train_test_split(x, y, test_size=0.2, random_state=0)\n",
    "print 'xTrain', xTrain, \"\\nxTest\", xTest, \"\\nyTrain\", yTrain, \"\\nyTest\", yTest"
   ]
  },
  {
   "cell_type": "markdown",
   "metadata": {},
   "source": [
    "## d. Realiza la experimentación con KNN (KNeighborsRegressor) usando como hiper-parámetro el número de vecinos."
   ]
  },
  {
   "cell_type": "code",
   "execution_count": 40,
   "metadata": {},
   "outputs": [
    {
     "name": "stdout",
     "output_type": "stream",
     "text": [
      "Best hyperparameters {'n_neighbors': 3, 'weights': 'uniform'}\n",
      "-8.822 (+/-2.770) for {'n_neighbors': 1, 'weights': 'uniform'}\n",
      "()\n",
      "-8.822 (+/-2.770) for {'n_neighbors': 1, 'weights': 'distance'}\n",
      "()\n",
      "-7.392 (+/-1.560) for {'n_neighbors': 2, 'weights': 'uniform'}\n",
      "()\n",
      "-7.385 (+/-1.576) for {'n_neighbors': 2, 'weights': 'distance'}\n",
      "()\n",
      "-6.910 (+/-1.438) for {'n_neighbors': 3, 'weights': 'uniform'}\n",
      "()\n",
      "-6.925 (+/-1.506) for {'n_neighbors': 3, 'weights': 'distance'}\n",
      "()\n",
      "-7.293 (+/-1.541) for {'n_neighbors': 4, 'weights': 'uniform'}\n",
      "()\n",
      "-7.170 (+/-1.581) for {'n_neighbors': 4, 'weights': 'distance'}\n",
      "()\n",
      "-7.545 (+/-1.654) for {'n_neighbors': 5, 'weights': 'uniform'}\n",
      "()\n",
      "-7.324 (+/-1.589) for {'n_neighbors': 5, 'weights': 'distance'}\n",
      "()\n"
     ]
    }
   ],
   "source": [
    "# Create color maps\n",
    "cmap_bold = ListedColormap(['#FF0000', '#00FF00', '#0000FF'])\n",
    "\n",
    "################################################################\n",
    "#KNN results\n",
    "################################################################\n",
    "\n",
    "#Generate grid search\n",
    "hyperParams = {'n_neighbors': range(1,6), \n",
    "               'weights': ['uniform', 'distance']}\n",
    "\n",
    "#Create an instance of Neighbors Classifier and fit the data for the grid parameters\n",
    "modelCV = GridSearchCV(neighbors.KNeighborsRegressor(), \n",
    "                     hyperParams, cv=5, scoring='neg_mean_squared_error')\n",
    "modelCV.fit(xTrain, yTrain)\n",
    "print \"Best hyperparameters\", modelCV.best_params_\n",
    "neighList, errList, devList = [], [], []\n",
    "for hyperP, mean_score, scores in modelCV.grid_scores_:\n",
    "    print(\"%0.3f (+/-%0.03f) for %r\"\n",
    "              % (mean_score, scores.std(), hyperP))\n",
    "    if hyperP['weights'] == modelCV.best_params_['weights']:\n",
    "        neighList.append(hyperP['n_neighbors'])\n",
    "        errList.append(1-mean_score)\n",
    "        devList.append(scores.std())\n",
    "    print()"
   ]
  },
  {
   "cell_type": "markdown",
   "metadata": {},
   "source": [
    "### i. Muestra la gráfica del error de entrenamiento con validación cruzada (5-CV) frente al valor del hiper-parámetro, y justifica la elección del valor más apropiado."
   ]
  },
  {
   "cell_type": "code",
   "execution_count": 41,
   "metadata": {},
   "outputs": [
    {
     "data": {
      "image/png": "[encoded data removed]",
      "text/plain": [
       "<matplotlib.figure.Figure at 0x7f0e036602d0>"
      ]
     },
     "metadata": {},
     "output_type": "display_data"
    }
   ],
   "source": [
    "plt.errorbar(neighList, errList, yerr = devList)\n",
    "plt.show()"
   ]
  },
  {
   "cell_type": "markdown",
   "metadata": {},
   "source": [
    "### ii. Muestra la gráfica del error de test frente al valor del hiper-parámetro, y valora si la gráfica del error de entrenamiento con validación cruzada ha hecho una buena estimación del error de test."
   ]
  },
  {
   "cell_type": "code",
   "execution_count": 42,
   "metadata": {},
   "outputs": [
    {
     "data": {
      "image/png": "[encoded data removed]",
      "text/plain": [
       "<matplotlib.figure.Figure at 0x7f0e035b7810>"
      ]
     },
     "metadata": {},
     "output_type": "display_data"
    }
   ],
   "source": [
    "#Test error\n",
    "testErrList=[]\n",
    "for nNeighbors in range(1, 6):\n",
    "    model = neighbors.KNeighborsRegressor(n_neighbors = nNeighbors)\n",
    "    model.fit(xTrain, yTrain)\n",
    "    yPred=model.predict(xTest)\n",
    "    testErrList.append(1-metrics.mean_squared_error(yTest,yPred))\n",
    "\n",
    "plt.errorbar(neighList, testErrList)\n",
    "plt.show()"
   ]
  },
  {
   "cell_type": "code",
   "execution_count": 43,
   "metadata": {},
   "outputs": [
    {
     "data": {
      "image/png": "[encoded data removed]",
      "text/plain": [
       "<matplotlib.figure.Figure at 0x7f0e03549790>"
      ]
     },
     "metadata": {},
     "output_type": "display_data"
    }
   ],
   "source": [
    "plt.errorbar(neighList, errList, yerr = devList)\n",
    "plt.xlim(neighList[0]-1, neighList[len(neighList)-1]+1)\n",
    "plt.errorbar(neighList, testErrList)\n",
    "plt.show()"
   ]
  }
 ],
 "metadata": {
  "kernelspec": {
   "display_name": "Python 2",
   "language": "python",
   "name": "python2"
  },
  "language_info": {
   "codemirror_mode": {
    "name": "ipython",
    "version": 2
   },
   "file_extension": ".py",
   "mimetype": "text/x-python",
   "name": "python",
   "nbconvert_exporter": "python",
   "pygments_lexer": "ipython2",
   "version": "2.7.9"
  }
 },
 "nbformat": 4,
 "nbformat_minor": 2
}
